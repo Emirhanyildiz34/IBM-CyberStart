{
 "cells": [
  {
   "cell_type": "code",
   "execution_count": 17,
   "id": "e5e48d90",
   "metadata": {},
   "outputs": [],
   "source": [
    "import math"
   ]
  },
  {
   "cell_type": "code",
   "execution_count": 18,
   "id": "53b86dcf",
   "metadata": {},
   "outputs": [],
   "source": [
    "points = [(1,2),(2,3),(4,3)]"
   ]
  },
  {
   "cell_type": "code",
   "execution_count": 19,
   "id": "fa40c608",
   "metadata": {},
   "outputs": [],
   "source": [
    "def euclideanDistance(point1,point2):\n",
    "    x1,y1 = point1\n",
    "    x2,y2 = point2\n",
    "    distance = math.sqrt((x2-x1)**2+(y2-y1)**2)\n",
    "    return distance"
   ]
  },
  {
   "cell_type": "code",
   "execution_count": 20,
   "id": "3bc1b261",
   "metadata": {},
   "outputs": [],
   "source": [
    "distances = []\n",
    "for i in range(len(points)):\n",
    "    for j in range(i+1,len(points)):\n",
    "        distance = euclideanDistance(points[i],points[j])\n",
    "        distances.append(distance)"
   ]
  },
  {
   "cell_type": "code",
   "execution_count": 27,
   "id": "70f06ef8",
   "metadata": {},
   "outputs": [
    {
     "name": "stdout",
     "output_type": "stream",
     "text": [
      "minimum mesafe:  1.4142135623730951\n"
     ]
    }
   ],
   "source": [
    "min_distance = min(distances)\n",
    "print(\"minimum mesafe: \", min_distance)"
   ]
  }
 ],
 "metadata": {
  "kernelspec": {
   "display_name": "Python 3 (ipykernel)",
   "language": "python",
   "name": "python3"
  },
  "language_info": {
   "codemirror_mode": {
    "name": "ipython",
    "version": 3
   },
   "file_extension": ".py",
   "mimetype": "text/x-python",
   "name": "python",
   "nbconvert_exporter": "python",
   "pygments_lexer": "ipython3",
   "version": "3.11.5"
  }
 },
 "nbformat": 4,
 "nbformat_minor": 5
}
